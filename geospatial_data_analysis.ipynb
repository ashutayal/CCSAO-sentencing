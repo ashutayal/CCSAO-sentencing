{
 "cells": [
  {
   "cell_type": "code",
   "execution_count": 1,
   "metadata": {},
   "outputs": [],
   "source": [
    "import pandas as pd\n",
    "import numpy as np\n",
    "import matplotlib.pyplot as plt\n",
    "import geopandas\n",
    "import os\n",
    "from ipywidgets import interact, interact_manual\n",
    "from mpl_toolkits.axes_grid1 import make_axes_locatable\n",
    "\n",
    "path = os.path.join(os.getcwd(), 'Documents', 'GitHub', 'final-project-oiivia-ashu')\n",
    "shape_file = os.path.join(path, 'Municipality.shp') \n",
    "# Source: https://hub-cookcountyil.opendata.arcgis.com/datasets/534226c6b1034985aca1e14a2eb234af_2?selectedAttribute=MUNICIPALITY \n",
    "\n",
    "# Importing and merging datasets\n",
    "municipalities = geopandas.read_file(shape_file)\n",
    "class_summary = pd.read_csv(os.path.join(path, 'class_summary.csv'))\n",
    "spatial_data = municipalities.merge(class_summary, how = 'left', on = ['MUNICIPALI']) # EPSG: 3435"
   ]
  },
  {
   "cell_type": "code",
   "execution_count": 2,
   "metadata": {},
   "outputs": [],
   "source": [
    "# Initialization and type conversions\n",
    "def clean_up(df):\n",
    "   \n",
    "    df['share'] = 0\n",
    "    df['YEAR'] = df['YEAR'].astype('Int64')\n",
    "    years = list(range(2012,2018))\n",
    "    categories = list(df.DISPOSITION_CHARGED_CLASS.dropna().unique())\n",
    "    df['DISPOSITION_CHARGED_CLASS'] = df['DISPOSITION_CHARGED_CLASS'].astype(str)\n",
    "    cities = list(df.MUNICIPALI.dropna().unique())\n",
    "    return df, years, categories, cities"
   ]
  },
  {
   "cell_type": "code",
   "execution_count": 3,
   "metadata": {},
   "outputs": [],
   "source": [
    "def summarize(df, years, categories, cities):\n",
    "        \n",
    "    df = df[df['DISPOSITION_CHARGED_CLASS'].notna()]\n",
    "    df = df[df['YEAR'].notna()]\n",
    "    \n",
    "    for year in years:\n",
    "        for c in categories:\n",
    "            for city in cities:\n",
    "                d = len(df[(df['YEAR'] == year) & (df['DISPOSITION_CHARGED_CLASS'] == c)])\n",
    "                n = len(df[(df['YEAR'] == year) & (df['DISPOSITION_CHARGED_CLASS'] == c) & (df['MUNICIPALI'] == city)])\n",
    "                if d != 0:\n",
    "                    df.loc[(df.YEAR == year) & (df.DISPOSITION_CHARGED_CLASS == c) & (df.MUNICIPALI == city), 'share'] = 100*n/d\n",
    "          \n",
    "    return(df)"
   ]
  },
  {
   "cell_type": "code",
   "execution_count": 4,
   "metadata": {},
   "outputs": [],
   "source": [
    "def plotter(felony):\n",
    "    \n",
    "    fig, ax = plt.subplots(figsize=(8,8))\n",
    "    divider = make_axes_locatable(ax)\n",
    "    cax = divider.append_axes('left', size='5%', pad=0.5)\n",
    "    ax = spatial_data[(spatial_data['DISPOSITION_CHARGED_CLASS'] == felony)].plot(ax=ax, column='share', legend=True, cax=cax)\n",
    "    ax.axis('off')\n",
    "    ax.set_title('Felonies in Cook County');\n",
    "    return ax"
   ]
  },
  {
   "cell_type": "code",
   "execution_count": 5,
   "metadata": {},
   "outputs": [],
   "source": [
    "spatial_data, years, categories, cities = clean_up(spatial_data)\n",
    "spatial_data = summarize(spatial_data, years, categories, cities)"
   ]
  },
  {
   "cell_type": "code",
   "execution_count": 6,
   "metadata": {},
   "outputs": [
    {
     "data": {
      "application/vnd.jupyter.widget-view+json": {
       "model_id": "f27b243b6197423d983500564e21b597",
       "version_major": 2,
       "version_minor": 0
      },
      "text/plain": [
       "interactive(children=(Dropdown(description='felony', index=7, options=('1', '2', '3', '4', 'A', 'M', 'X', 'C',…"
      ]
     },
     "metadata": {},
     "output_type": "display_data"
    }
   ],
   "source": [
    "@interact(felony = categories)\n",
    "def make_plot_for(felony = 'C'):\n",
    "     plot = plotter(felony)"
   ]
  }
 ],
 "metadata": {
  "kernelspec": {
   "display_name": "Python 3",
   "language": "python",
   "name": "python3"
  },
  "language_info": {
   "codemirror_mode": {
    "name": "ipython",
    "version": 3
   },
   "file_extension": ".py",
   "mimetype": "text/x-python",
   "name": "python",
   "nbconvert_exporter": "python",
   "pygments_lexer": "ipython3",
   "version": "3.7.6"
  }
 },
 "nbformat": 4,
 "nbformat_minor": 4
}
